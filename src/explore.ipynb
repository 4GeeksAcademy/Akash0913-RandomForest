{
    "cells": [
        {
            "cell_type": "markdown",
            "metadata": {},
            "source": [
                "# Explore here"
            ]
        },
        {
            "cell_type": "code",
            "execution_count": null,
            "metadata": {},
            "outputs": [],
            "source": [
                "import pandas as pd\n",
                "import matplotlib.pyplot as plt\n",
                "from sklearn.tree import DecisionTreeClassifier\n",
                "from sklearn import tree\n",
                "from sklearn.metrics import accuracy_score\n",
                "from sklearn.model_selection import GridSearchCV\n",
                "from sklearn.tree import DecisionTreeClassifier\n",
                "from sklearn.metrics import accuracy_score\n",
                "from sklearn.feature_selection import SelectKBest\n",
                "from sklearn.model_selection import train_test_split\n",
                "from sklearn.ensemble import RandomForestClassifier\n",
                "\n",
                "total_data = pd.read_csv(\"https://raw.githubusercontent.com/4GeeksAcademy/decision-tree-project-tutorial/main/diabetes.csv\")\n",
                "print(total_data.head())\n",
                "total_data = total_data.drop_duplicates().reset_index(drop = True)\n",
                "print(total_data.head())\n",
                "\n",
                "X = total_data.drop(\"Outcome\", axis = 1)\n",
                "y = total_data[\"Outcome\"]\n",
                "\n",
                "X_train, X_test, y_train, y_test = train_test_split(X, y, test_size = 0.2, random_state = 42)\n",
                "\n",
                "selection_model = SelectKBest(k = 7)\n",
                "selection_model.fit(X_train, y_train)\n",
                "\n",
                "selected_columns = X_train.columns[selection_model.get_support()]\n",
                "X_train_sel = pd.DataFrame(selection_model.transform(X_train), columns = selected_columns)\n",
                "X_test_sel = pd.DataFrame(selection_model.transform(X_test), columns = selected_columns)\n",
                "\n",
                "print(X_train_sel.head())\n",
                "print(X_test_sel.head())\n",
                "X_train_sel[\"Outcome\"] = y_train.values\n",
                "X_test_sel[\"Outcome\"] = y_test.values\n",
                "X_train_sel.to_csv(\"clean_train.csv\", index = False)\n",
                "X_test_sel.to_csv(\"clean_test.csv\", index = False)\n",
                "train_data = pd.read_csv(\"clean_train.csv\")\n",
                "test_data = pd.read_csv(\"clean_test.csv\")\n",
                "\n",
                "print(train_data.head())\n",
                "\n",
                "X_train = train_data.drop([\"Outcome\"], axis = 1)\n",
                "y_train = train_data[\"Outcome\"]\n",
                "X_test = test_data.drop([\"Outcome\"], axis = 1)\n",
                "y_test = test_data[\"Outcome\"]\n",
                "\n",
                "model = RandomForestClassifier(n_estimators = 60, random_state = 42)\n",
                "print(model.fit(X_train, y_train))\n",
                "y_pred = model.predict(X_test)\n",
                "print(y_pred)\n",
                "print(accuracy_score(y_test, y_pred))"
            ]
        }
    ],
    "metadata": {
        "kernelspec": {
            "display_name": "Python 3.8.13 64-bit ('3.8.13')",
            "language": "python",
            "name": "python3"
        },
        "language_info": {
            "codemirror_mode": {
                "name": "ipython",
                "version": 3
            },
            "file_extension": ".py",
            "mimetype": "text/x-python",
            "name": "python",
            "nbconvert_exporter": "python",
            "pygments_lexer": "ipython3",
            "version": "3.8.13"
        },
        "orig_nbformat": 4,
        "vscode": {
            "interpreter": {
                "hash": "110cc1dee26208153f2972f08a2ad52b6a56238dc66d48e87fb757ef2996db56"
            }
        }
    },
    "nbformat": 4,
    "nbformat_minor": 2
}
